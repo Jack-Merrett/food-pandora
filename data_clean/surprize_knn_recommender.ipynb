{
 "cells": [
  {
   "attachments": {},
   "cell_type": "markdown",
   "metadata": {},
   "source": [
    "# Import libraries"
   ]
  },
  {
   "cell_type": "code",
   "execution_count": 1,
   "metadata": {},
   "outputs": [],
   "source": [
    "import pandas as pd\n",
    "import numpy as np"
   ]
  },
  {
   "attachments": {},
   "cell_type": "markdown",
   "metadata": {},
   "source": [
    "# Load in the data set"
   ]
  },
  {
   "cell_type": "code",
   "execution_count": 2,
   "metadata": {},
   "outputs": [],
   "source": [
    "data = pd.read_csv('../raw_data/Tokyo_Restaurant_Reviews_Tabelog.csv')"
   ]
  },
  {
   "attachments": {},
   "cell_type": "markdown",
   "metadata": {},
   "source": [
    "# install Scikit-surpirse "
   ]
  },
  {
   "cell_type": "code",
   "execution_count": 3,
   "metadata": {},
   "outputs": [
    {
     "name": "stdout",
     "output_type": "stream",
     "text": [
      "Collecting scikit-surprise\n",
      "  Using cached scikit_surprise-1.1.3-cp310-cp310-linux_x86_64.whl\n",
      "Requirement already satisfied: joblib>=1.0.0 in /home/jmerrett/.pyenv/versions/3.10.6/envs/food-pandora/lib/python3.10/site-packages (from scikit-surprise) (1.2.0)\n",
      "Requirement already satisfied: numpy>=1.17.3 in /home/jmerrett/.pyenv/versions/3.10.6/envs/food-pandora/lib/python3.10/site-packages (from scikit-surprise) (1.24.3)\n",
      "Requirement already satisfied: scipy>=1.3.2 in /home/jmerrett/.pyenv/versions/3.10.6/envs/food-pandora/lib/python3.10/site-packages (from scikit-surprise) (1.10.1)\n",
      "Installing collected packages: scikit-surprise\n",
      "Successfully installed scikit-surprise-1.1.3\n"
     ]
    }
   ],
   "source": [
    "!pip install scikit-surprise"
   ]
  },
  {
   "attachments": {},
   "cell_type": "markdown",
   "metadata": {},
   "source": [
    "# Call in additional Libraries\n"
   ]
  },
  {
   "cell_type": "code",
   "execution_count": 4,
   "metadata": {},
   "outputs": [],
   "source": [
    "from surprise import Dataset, Reader, KNNBasic\n",
    "from surprise.model_selection import train_test_split"
   ]
  },
  {
   "attachments": {},
   "cell_type": "markdown",
   "metadata": {},
   "source": [
    "## Load the data "
   ]
  },
  {
   "cell_type": "code",
   "execution_count": 5,
   "metadata": {},
   "outputs": [
    {
     "data": {
      "text/html": [
       "<div>\n",
       "<style scoped>\n",
       "    .dataframe tbody tr th:only-of-type {\n",
       "        vertical-align: middle;\n",
       "    }\n",
       "\n",
       "    .dataframe tbody tr th {\n",
       "        vertical-align: top;\n",
       "    }\n",
       "\n",
       "    .dataframe thead th {\n",
       "        text-align: right;\n",
       "    }\n",
       "</style>\n",
       "<table border=\"1\" class=\"dataframe\">\n",
       "  <thead>\n",
       "    <tr style=\"text-align: right;\">\n",
       "      <th></th>\n",
       "      <th>store_id</th>\n",
       "      <th>name</th>\n",
       "      <th>nearest_station</th>\n",
       "      <th>nearest_distance</th>\n",
       "      <th>genre</th>\n",
       "      <th>rating_val</th>\n",
       "      <th>review_cnt</th>\n",
       "      <th>save_cnt</th>\n",
       "      <th>budget_dinner</th>\n",
       "      <th>budget_lunch</th>\n",
       "      <th>holiday</th>\n",
       "      <th>address</th>\n",
       "      <th>prefecture</th>\n",
       "      <th>municipalities_1</th>\n",
       "      <th>municipalities_2</th>\n",
       "      <th>municipalities_3</th>\n",
       "    </tr>\n",
       "  </thead>\n",
       "  <tbody>\n",
       "    <tr>\n",
       "      <th>0</th>\n",
       "      <td>13097553</td>\n",
       "      <td>個室北国炉端 ときしらず 飯田橋駅前</td>\n",
       "      <td>飯田橋駅</td>\n",
       "      <td>82.0</td>\n",
       "      <td>魚介料理・海鮮料理、居酒屋、日本料理</td>\n",
       "      <td>3.12</td>\n",
       "      <td>61.0</td>\n",
       "      <td>2848.0</td>\n",
       "      <td>￥3,000～￥3,999</td>\n",
       "      <td>￥3,000～￥3,999</td>\n",
       "      <td>-</td>\n",
       "      <td>東京都千代田区飯田橋4-9-8 大和ビル 5F</td>\n",
       "      <td>東京</td>\n",
       "      <td>千代田区</td>\n",
       "      <td>飯田橋</td>\n",
       "      <td>-</td>\n",
       "    </tr>\n",
       "    <tr>\n",
       "      <th>1</th>\n",
       "      <td>13115133</td>\n",
       "      <td>祭 飯田橋東口駅前</td>\n",
       "      <td>飯田橋駅</td>\n",
       "      <td>65.0</td>\n",
       "      <td>居酒屋、和食（その他）、焼鳥</td>\n",
       "      <td>3.25</td>\n",
       "      <td>29.0</td>\n",
       "      <td>1358.0</td>\n",
       "      <td>￥2,000～￥2,999</td>\n",
       "      <td>-</td>\n",
       "      <td>-</td>\n",
       "      <td>東京都千代田区飯田橋4-9-8 飯田橋プラザ 1F</td>\n",
       "      <td>東京</td>\n",
       "      <td>千代田区</td>\n",
       "      <td>飯田橋</td>\n",
       "      <td>-</td>\n",
       "    </tr>\n",
       "    <tr>\n",
       "      <th>2</th>\n",
       "      <td>13139364</td>\n",
       "      <td>鳥酎 飯田橋</td>\n",
       "      <td>飯田橋駅</td>\n",
       "      <td>190.0</td>\n",
       "      <td>焼鳥、居酒屋、日本酒バー</td>\n",
       "      <td>3.46</td>\n",
       "      <td>119.0</td>\n",
       "      <td>10893.0</td>\n",
       "      <td>￥3,000～￥3,999</td>\n",
       "      <td>～￥999</td>\n",
       "      <td>-</td>\n",
       "      <td>東京都千代田区飯田橋4-7-11 カクタス飯田橋 B1F</td>\n",
       "      <td>東京</td>\n",
       "      <td>千代田区</td>\n",
       "      <td>飯田橋</td>\n",
       "      <td>-</td>\n",
       "    </tr>\n",
       "    <tr>\n",
       "      <th>3</th>\n",
       "      <td>13260247</td>\n",
       "      <td>炭火焼き鳥 すいけん 飯田橋</td>\n",
       "      <td>飯田橋駅</td>\n",
       "      <td>307.0</td>\n",
       "      <td>居酒屋、焼鳥、日本酒バー</td>\n",
       "      <td>3.06</td>\n",
       "      <td>14.0</td>\n",
       "      <td>725.0</td>\n",
       "      <td>￥2,000～￥2,999</td>\n",
       "      <td>￥1,000～￥1,999</td>\n",
       "      <td>-</td>\n",
       "      <td>東京都千代田区飯田橋3-3-7 秋穂セントラルビル 1-B</td>\n",
       "      <td>東京</td>\n",
       "      <td>千代田区</td>\n",
       "      <td>飯田橋</td>\n",
       "      <td>-</td>\n",
       "    </tr>\n",
       "    <tr>\n",
       "      <th>4</th>\n",
       "      <td>13225614</td>\n",
       "      <td>個室居酒屋×博多焼き鳥 巻きの助 飯田橋店</td>\n",
       "      <td>飯田橋駅</td>\n",
       "      <td>259.0</td>\n",
       "      <td>居酒屋、焼鳥、もつ鍋</td>\n",
       "      <td>3.07</td>\n",
       "      <td>35.0</td>\n",
       "      <td>2475.0</td>\n",
       "      <td>￥3,000～￥3,999</td>\n",
       "      <td>-</td>\n",
       "      <td>-</td>\n",
       "      <td>東京都千代田区飯田橋4-5-6 ECS第3ビル 1F</td>\n",
       "      <td>東京</td>\n",
       "      <td>千代田区</td>\n",
       "      <td>飯田橋</td>\n",
       "      <td>-</td>\n",
       "    </tr>\n",
       "  </tbody>\n",
       "</table>\n",
       "</div>"
      ],
      "text/plain": [
       "   store_id                   name nearest_station  nearest_distance  \\\n",
       "0  13097553     個室北国炉端 ときしらず 飯田橋駅前            飯田橋駅              82.0   \n",
       "1  13115133              祭 飯田橋東口駅前            飯田橋駅              65.0   \n",
       "2  13139364                 鳥酎 飯田橋            飯田橋駅             190.0   \n",
       "3  13260247         炭火焼き鳥 すいけん 飯田橋            飯田橋駅             307.0   \n",
       "4  13225614  個室居酒屋×博多焼き鳥 巻きの助 飯田橋店            飯田橋駅             259.0   \n",
       "\n",
       "                            genre  rating_val  review_cnt  save_cnt  \\\n",
       "0  魚介料理・海鮮料理、居酒屋、日本料理                    3.12        61.0    2848.0   \n",
       "1      居酒屋、和食（その他）、焼鳥                    3.25        29.0    1358.0   \n",
       "2        焼鳥、居酒屋、日本酒バー                    3.46       119.0   10893.0   \n",
       "3        居酒屋、焼鳥、日本酒バー                    3.06        14.0     725.0   \n",
       "4          居酒屋、焼鳥、もつ鍋                    3.07        35.0    2475.0   \n",
       "\n",
       "   budget_dinner   budget_lunch holiday                        address  \\\n",
       "0  ￥3,000～￥3,999  ￥3,000～￥3,999       -        東京都千代田区飯田橋4-9-8 大和ビル 5F   \n",
       "1  ￥2,000～￥2,999              -       -      東京都千代田区飯田橋4-9-8 飯田橋プラザ 1F   \n",
       "2  ￥3,000～￥3,999          ～￥999       -   東京都千代田区飯田橋4-7-11 カクタス飯田橋 B1F   \n",
       "3  ￥2,000～￥2,999  ￥1,000～￥1,999       -  東京都千代田区飯田橋3-3-7 秋穂セントラルビル 1-B   \n",
       "4  ￥3,000～￥3,999              -       -     東京都千代田区飯田橋4-5-6 ECS第3ビル 1F   \n",
       "\n",
       "  prefecture municipalities_1 municipalities_2 municipalities_3  \n",
       "0         東京             千代田区              飯田橋                -  \n",
       "1         東京             千代田区              飯田橋                -  \n",
       "2         東京             千代田区              飯田橋                -  \n",
       "3         東京             千代田区              飯田橋                -  \n",
       "4         東京             千代田区              飯田橋                -  "
      ]
     },
     "execution_count": 5,
     "metadata": {},
     "output_type": "execute_result"
    }
   ],
   "source": [
    "data.head()"
   ]
  },
  {
   "attachments": {},
   "cell_type": "markdown",
   "metadata": {},
   "source": [
    "## Select the appropriate data from set "
   ]
  },
  {
   "cell_type": "code",
   "execution_count": null,
   "metadata": {},
   "outputs": [],
   "source": [
    "appro_data = data[['store_id','rating_val','']]"
   ]
  },
  {
   "cell_type": "code",
   "execution_count": null,
   "metadata": {},
   "outputs": [],
   "source": []
  },
  {
   "attachments": {},
   "cell_type": "markdown",
   "metadata": {},
   "source": [
    "## Split the dataset\n"
   ]
  },
  {
   "cell_type": "code",
   "execution_count": null,
   "metadata": {},
   "outputs": [],
   "source": [
    "trainset, testset = train_test_split(data, test_size=0.2, random_state=42)\n"
   ]
  },
  {
   "cell_type": "code",
   "execution_count": null,
   "metadata": {},
   "outputs": [],
   "source": []
  },
  {
   "cell_type": "code",
   "execution_count": null,
   "metadata": {},
   "outputs": [],
   "source": []
  },
  {
   "attachments": {},
   "cell_type": "markdown",
   "metadata": {},
   "source": [
    "## Choose my algrorithm"
   ]
  },
  {
   "cell_type": "code",
   "execution_count": null,
   "metadata": {},
   "outputs": [],
   "source": [
    "algo = KNNBasic()"
   ]
  },
  {
   "cell_type": "code",
   "execution_count": null,
   "metadata": {},
   "outputs": [],
   "source": []
  },
  {
   "attachments": {},
   "cell_type": "markdown",
   "metadata": {},
   "source": [
    "## Train the model"
   ]
  },
  {
   "cell_type": "code",
   "execution_count": null,
   "metadata": {},
   "outputs": [],
   "source": [
    "algo.fit(trainset)"
   ]
  },
  {
   "cell_type": "code",
   "execution_count": null,
   "metadata": {},
   "outputs": [],
   "source": []
  },
  {
   "attachments": {},
   "cell_type": "markdown",
   "metadata": {},
   "source": [
    "# Generate recommendations"
   ]
  },
  {
   "cell_type": "code",
   "execution_count": null,
   "metadata": {},
   "outputs": [],
   "source": [
    "# Get the user ID for which you want to generate recommendations\n",
    "user_id = 10\n",
    "\n",
    "# Get a list of items the user has not rated\n",
    "items_to_predict = [item_id for item_id in trainset.all_items() if item_id not in trainset.ur[user_id]]\n",
    "\n",
    "# Generate top-n recommendations for the user\n",
    "top_n = algo.test([(user_id, item_id, 4.0) for item_id in items_to_predict])\n",
    "\n",
    "# Sort the recommendations by predicted rating in descending order\n",
    "top_n = sorted(top_n, key=lambda x: x.est, reverse=True)\n",
    "\n",
    "# Print the top 5 recommendations\n",
    "for recommendation in top_n[:5]:\n",
    "    print(recommendation)"
   ]
  },
  {
   "cell_type": "code",
   "execution_count": null,
   "metadata": {},
   "outputs": [],
   "source": []
  },
  {
   "attachments": {},
   "cell_type": "markdown",
   "metadata": {},
   "source": [
    "# Evaluate the model"
   ]
  },
  {
   "cell_type": "code",
   "execution_count": null,
   "metadata": {},
   "outputs": [],
   "source": []
  },
  {
   "cell_type": "code",
   "execution_count": null,
   "metadata": {},
   "outputs": [],
   "source": []
  }
 ],
 "metadata": {
  "kernelspec": {
   "display_name": "food-pandora",
   "language": "python",
   "name": "python3"
  },
  "language_info": {
   "codemirror_mode": {
    "name": "ipython",
    "version": 3
   },
   "file_extension": ".py",
   "mimetype": "text/x-python",
   "name": "python",
   "nbconvert_exporter": "python",
   "pygments_lexer": "ipython3",
   "version": "3.10.6"
  },
  "orig_nbformat": 4
 },
 "nbformat": 4,
 "nbformat_minor": 2
}
